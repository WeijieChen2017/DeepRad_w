{
 "cells": [
  {
   "cell_type": "code",
   "execution_count": 1,
   "metadata": {},
   "outputs": [
    {
     "name": "stdout",
     "output_type": "stream",
     "text": [
      "(512, 512, 284)\n"
     ]
    }
   ],
   "source": [
    "#!/usr/bin/python\n",
    "# -*- coding: UTF-8 -*-\n",
    "\n",
    "\n",
    "import glob\n",
    "import numpy as np\n",
    "import nibabel as nib\n",
    "import argparse\n",
    "from scipy import stats\n",
    "\n",
    "ID = 'd4f64_Kirby'\n",
    "pet = 'subj01'\n",
    "\n",
    "dir_pet = './/files//'+pet+'_pet.nii.gz'\n",
    "pet_file = nib.load(dir_pet)\n",
    "pet_data = pet_file.get_fdata()\n",
    "\n",
    "header = pet_file.header\n",
    "affine = pet_file.affine\n",
    "\n",
    "data = np.zeros((512, 512, 284))\n",
    "\n",
    "path = '.\\\\mid_results\\\\' + ID + \"\\\\*.npy\"\n",
    "list_nii = glob.glob(path)\n",
    "\n",
    "for idx in range(len(list_nii)):\n",
    "    curr_path = list_nii[idx]\n",
    "    curr_data = np.load(curr_path).reshape((512, 512))\n",
    "    factor = 1\n",
    "    data[:, :, idx] = curr_data / factor\n",
    "\n",
    "data = np.array(data)\n",
    "print(data.shape)\n",
    "\n",
    "# nii_file = nib.Nifti1Image(data, affine, header)\n",
    "# save_path = '.\\\\mid_results\\\\' + ID + \"\\\\\"\n",
    "# nib.save(nii_file, save_path+'PVC_PET_norm.nii.gz')\n",
    "# print('Assembling complete.')\n"
   ]
  },
  {
   "cell_type": "code",
   "execution_count": 3,
   "metadata": {},
   "outputs": [
    {
     "ename": "NameError",
     "evalue": "name 'plt' is not defined",
     "output_type": "error",
     "traceback": [
      "\u001b[1;31m---------------------------------------------------------------------------\u001b[0m",
      "\u001b[1;31mNameError\u001b[0m                                 Traceback (most recent call last)",
      "\u001b[1;32m<ipython-input-3-c3deaba607c4>\u001b[0m in \u001b[0;36m<module>\u001b[1;34m()\u001b[0m\n\u001b[1;32m----> 1\u001b[1;33m \u001b[0mplt\u001b[0m\u001b[1;33m.\u001b[0m\u001b[0mhistogram\u001b[0m\u001b[1;33m(\u001b[0m\u001b[0mpet_data\u001b[0m\u001b[1;33m,\u001b[0m \u001b[0mbins\u001b[0m\u001b[1;33m=\u001b[0m\u001b[1;36m256\u001b[0m\u001b[1;33m)\u001b[0m\u001b[1;33m\u001b[0m\u001b[0m\n\u001b[0m",
      "\u001b[1;31mNameError\u001b[0m: name 'plt' is not defined"
     ]
    }
   ],
   "source": [
    "\n",
    "\n",
    "plt.histogram(pet_data, bins=256)"
   ]
  },
  {
   "cell_type": "code",
   "execution_count": null,
   "metadata": {},
   "outputs": [],
   "source": []
  }
 ],
 "metadata": {
  "kernelspec": {
   "display_name": "Python 3",
   "language": "python",
   "name": "python3"
  },
  "language_info": {
   "codemirror_mode": {
    "name": "ipython",
    "version": 3
   },
   "file_extension": ".py",
   "mimetype": "text/x-python",
   "name": "python",
   "nbconvert_exporter": "python",
   "pygments_lexer": "ipython3",
   "version": "3.6.6"
  }
 },
 "nbformat": 4,
 "nbformat_minor": 2
}
