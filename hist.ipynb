{
 "cells": [
  {
   "cell_type": "code",
   "execution_count": 44,
   "metadata": {},
   "outputs": [
    {
     "name": "stdout",
     "output_type": "stream",
     "text": [
      "(512, 512, 284)\n"
     ]
    }
   ],
   "source": [
    "#!/usr/bin/python\n",
    "# -*- coding: UTF-8 -*-\n",
    "\n",
    "\n",
    "import glob\n",
    "import numpy as np\n",
    "import nibabel as nib\n",
    "import argparse\n",
    "from scipy import stats\n",
    "import matplotlib.pyplot as plt\n",
    "\n",
    "ID = 'd4f64_Kirby'\n",
    "pet = 'subj01'\n",
    "\n",
    "dir_pet = './/files//'+pet+'_pet.nii.gz'\n",
    "pet_file = nib.load(dir_pet)\n",
    "pet_data = pet_file.get_fdata()\n",
    "\n",
    "header = pet_file.header\n",
    "affine = pet_file.affine\n",
    "\n",
    "data = np.zeros((512, 512, 284))\n",
    "\n",
    "path = '.\\\\mid_results\\\\' + ID + \"\\\\*.npy\"\n",
    "list_nii = glob.glob(path)\n",
    "\n",
    "for idx in range(len(list_nii)):\n",
    "    curr_path = list_nii[idx]\n",
    "    curr_data = np.load(curr_path).reshape((512, 512))\n",
    "    factor = 1\n",
    "    data[:, :, idx] = curr_data / factor\n",
    "\n",
    "data = np.array(data)\n",
    "print(data.shape)\n",
    "\n",
    "# nii_file = nib.Nifti1Image(data, affine, header)\n",
    "# save_path = '.\\\\mid_results\\\\' + ID + \"\\\\\"\n",
    "# nib.save(nii_file, save_path+'PVC_PET_norm.nii.gz')\n",
    "# print('Assembling complete.')\n"
   ]
  },
  {
   "cell_type": "code",
   "execution_count": 45,
   "metadata": {},
   "outputs": [
    {
     "data": {
      "text/plain": [
       "(array([1.43523e+05, 3.81700e+03, 4.60300e+03, 5.22500e+03, 5.58900e+03,\n",
       "        5.21300e+03, 3.50400e+03, 2.87500e+03, 2.96800e+03, 2.67400e+03,\n",
       "        2.54400e+03, 3.00600e+03, 3.33000e+03, 3.60000e+03, 3.42300e+03,\n",
       "        2.61000e+03, 2.06200e+03, 1.69700e+03, 1.49300e+03, 1.27700e+03,\n",
       "        1.29400e+03, 1.23400e+03, 1.23000e+03, 1.24500e+03, 1.29600e+03,\n",
       "        1.29600e+03, 1.32000e+03, 1.34800e+03, 1.30800e+03, 1.37600e+03,\n",
       "        1.33700e+03, 1.57600e+03, 1.81000e+03, 1.84600e+03, 1.88100e+03,\n",
       "        1.82600e+03, 1.99500e+03, 2.01500e+03, 2.27000e+03, 2.50200e+03,\n",
       "        2.58000e+03, 2.69500e+03, 2.63900e+03, 2.35300e+03, 2.39600e+03,\n",
       "        2.42000e+03, 1.97100e+03, 1.81200e+03, 1.44300e+03, 1.10900e+03,\n",
       "        9.19000e+02, 7.51000e+02, 5.21000e+02, 3.77000e+02, 2.81000e+02,\n",
       "        2.55000e+02, 1.71000e+02, 1.11000e+02, 9.10000e+01, 6.80000e+01,\n",
       "        7.10000e+01, 4.10000e+01, 1.90000e+01, 1.20000e+01]),\n",
       " array([    0.        ,   833.12298584,  1666.24597168,  2499.36895752,\n",
       "         3332.49194336,  4165.6149292 ,  4998.73791504,  5831.86090088,\n",
       "         6664.98388672,  7498.10687256,  8331.2298584 ,  9164.35284424,\n",
       "         9997.47583008, 10830.59881592, 11663.72180176, 12496.8447876 ,\n",
       "        13329.96777344, 14163.09075928, 14996.21374512, 15829.33673096,\n",
       "        16662.4597168 , 17495.58270264, 18328.70568848, 19161.82867432,\n",
       "        19994.95166016, 20828.074646  , 21661.19763184, 22494.32061768,\n",
       "        23327.44360352, 24160.56658936, 24993.6895752 , 25826.81256104,\n",
       "        26659.93554688, 27493.05853271, 28326.18151855, 29159.30450439,\n",
       "        29992.42749023, 30825.55047607, 31658.67346191, 32491.79644775,\n",
       "        33324.91943359, 34158.04241943, 34991.16540527, 35824.28839111,\n",
       "        36657.41137695, 37490.53436279, 38323.65734863, 39156.78033447,\n",
       "        39989.90332031, 40823.02630615, 41656.14929199, 42489.27227783,\n",
       "        43322.39526367, 44155.51824951, 44988.64123535, 45821.76422119,\n",
       "        46654.88720703, 47488.01019287, 48321.13317871, 49154.25616455,\n",
       "        49987.37915039, 50820.50213623, 51653.62512207, 52486.74810791,\n",
       "        53319.87109375]),\n",
       " <a list of 64 Patch objects>)"
      ]
     },
     "execution_count": 45,
     "metadata": {},
     "output_type": "execute_result"
    },
    {
     "data": {
      "image/png": "[encoded data removed]",
      "text/plain": [
       "<Figure size 432x288 with 1 Axes>"
      ]
     },
     "metadata": {
      "needs_background": "light"
     },
     "output_type": "display_data"
    }
   ],
   "source": [
    "plt.hist(np.ravel(pet_data[:,:,142]), bins=64)"
   ]
  },
  {
   "cell_type": "code",
   "execution_count": 46,
   "metadata": {},
   "outputs": [
    {
     "name": "stdout",
     "output_type": "stream",
     "text": [
      "416.5614929199219\n"
     ]
    }
   ],
   "source": [
    "hist = np.histogram(pet_data[:,:,142], bins=64)\n",
    "max_idx = np.argmax(hist[0])\n",
    "factor = (hist[1][max_idx]+hist[1][max_idx+1]) / 2\n",
    "print(factor)"
   ]
  },
  {
   "cell_type": "code",
   "execution_count": 47,
   "metadata": {},
   "outputs": [
    {
     "name": "stdout",
     "output_type": "stream",
     "text": [
      "28947.56056213379\n"
     ]
    }
   ],
   "source": [
    "hist = np.histogram(data[:,:,142], bins=64)\n",
    "max_idx = np.argmax(hist[0])\n",
    "factor = (hist[1][max_idx]+hist[1][max_idx+1]) / 2\n",
    "print(factor)"
   ]
  },
  {
   "cell_type": "code",
   "execution_count": 48,
   "metadata": {},
   "outputs": [
    {
     "data": {
      "text/plain": [
       "(array([ 5136.,  5678.,  6349.,  7720.,  9854., 11503., 12349., 14400.,\n",
       "        14841., 20118., 35062., 45181., 22627.,  9166.,  4478.,  3505.,\n",
       "         2811.,  2325.,  2618.,  2074.,  1349.,  1192.,  1167.,  1149.,\n",
       "          998.,   852.,   800.,   735.,   738.,   658.,   681.,   636.,\n",
       "          629.,   601.,   560.,   568.,   930.,   466.,   523.,   811.,\n",
       "          495.,   379.,   397.,   403.,   385.,   385.,   356.,   343.,\n",
       "          338.,   329.,   338.,   313.,   327.,   284.,   327.,   304.,\n",
       "          324.,   294.,   327.,   340.,   315.,   342.,   362.,   299.]),\n",
       " array([26655.04882812, 26854.39767456, 27053.746521  , 27253.09536743,\n",
       "        27452.44421387, 27651.7930603 , 27851.14190674, 28050.49075317,\n",
       "        28249.83959961, 28449.18844604, 28648.53729248, 28847.88613892,\n",
       "        29047.23498535, 29246.58383179, 29445.93267822, 29645.28152466,\n",
       "        29844.63037109, 30043.97921753, 30243.32806396, 30442.6769104 ,\n",
       "        30642.02575684, 30841.37460327, 31040.72344971, 31240.07229614,\n",
       "        31439.42114258, 31638.76998901, 31838.11883545, 32037.46768188,\n",
       "        32236.81652832, 32436.16537476, 32635.51422119, 32834.86306763,\n",
       "        33034.21191406, 33233.5607605 , 33432.90960693, 33632.25845337,\n",
       "        33831.6072998 , 34030.95614624, 34230.30499268, 34429.65383911,\n",
       "        34629.00268555, 34828.35153198, 35027.70037842, 35227.04922485,\n",
       "        35426.39807129, 35625.74691772, 35825.09576416, 36024.4446106 ,\n",
       "        36223.79345703, 36423.14230347, 36622.4911499 , 36821.83999634,\n",
       "        37021.18884277, 37220.53768921, 37419.88653564, 37619.23538208,\n",
       "        37818.58422852, 38017.93307495, 38217.28192139, 38416.63076782,\n",
       "        38615.97961426, 38815.32846069, 39014.67730713, 39214.02615356,\n",
       "        39413.375     ]),\n",
       " <a list of 64 Patch objects>)"
      ]
     },
     "execution_count": 48,
     "metadata": {},
     "output_type": "execute_result"
    },
    {
     "data": {
      "image/png": "[encoded data removed]",
      "text/plain": [
       "<Figure size 432x288 with 1 Axes>"
      ]
     },
     "metadata": {
      "needs_background": "light"
     },
     "output_type": "display_data"
    }
   ],
   "source": [
    "plt.hist(np.ravel(data[:,:,142]), bins=64)"
   ]
  },
  {
   "cell_type": "code",
   "execution_count": null,
   "metadata": {},
   "outputs": [],
   "source": []
  },
  {
   "cell_type": "code",
   "execution_count": 49,
   "metadata": {},
   "outputs": [
    {
     "data": {
      "text/plain": [
       "(array([ 5136.,  5678.,  6349.,  7720.,  9854., 11503., 12349., 14400.,\n",
       "        14841., 20118., 35062., 45181., 22627.,  9166.,  4478.,  3505.,\n",
       "         2811.,  2325.,  2618.,  2074.,  1349.,  1192.,  1167.,  1149.,\n",
       "          998.,   852.,   800.,   735.,   738.,   658.,   681.,   636.,\n",
       "          629.,   601.,   560.,   568.,   930.,   466.,   523.,   811.,\n",
       "          495.,   379.,   397.,   403.,   385.,   385.,   356.,   343.,\n",
       "          338.,   329.,   338.,   313.,   327.,   284.,   327.,   304.,\n",
       "          324.,   294.,   327.,   340.,   315.,   342.,   362.,   299.]),\n",
       " array([26655.04882812, 26854.39767456, 27053.746521  , 27253.09536743,\n",
       "        27452.44421387, 27651.7930603 , 27851.14190674, 28050.49075317,\n",
       "        28249.83959961, 28449.18844604, 28648.53729248, 28847.88613892,\n",
       "        29047.23498535, 29246.58383179, 29445.93267822, 29645.28152466,\n",
       "        29844.63037109, 30043.97921753, 30243.32806396, 30442.6769104 ,\n",
       "        30642.02575684, 30841.37460327, 31040.72344971, 31240.07229614,\n",
       "        31439.42114258, 31638.76998901, 31838.11883545, 32037.46768188,\n",
       "        32236.81652832, 32436.16537476, 32635.51422119, 32834.86306763,\n",
       "        33034.21191406, 33233.5607605 , 33432.90960693, 33632.25845337,\n",
       "        33831.6072998 , 34030.95614624, 34230.30499268, 34429.65383911,\n",
       "        34629.00268555, 34828.35153198, 35027.70037842, 35227.04922485,\n",
       "        35426.39807129, 35625.74691772, 35825.09576416, 36024.4446106 ,\n",
       "        36223.79345703, 36423.14230347, 36622.4911499 , 36821.83999634,\n",
       "        37021.18884277, 37220.53768921, 37419.88653564, 37619.23538208,\n",
       "        37818.58422852, 38017.93307495, 38217.28192139, 38416.63076782,\n",
       "        38615.97961426, 38815.32846069, 39014.67730713, 39214.02615356,\n",
       "        39413.375     ]),\n",
       " <a list of 64 Patch objects>)"
      ]
     },
     "execution_count": 49,
     "metadata": {},
     "output_type": "execute_result"
    },
    {
     "data": {
      "image/png": "[encoded data removed]",
      "text/plain": [
       "<Figure size 432x288 with 1 Axes>"
      ]
     },
     "metadata": {
      "needs_background": "light"
     },
     "output_type": "display_data"
    }
   ],
   "source": [
    "curr_data = data[:,:,142]\n",
    "plt.hist(np.ravel(curr_data), bins=64)"
   ]
  },
  {
   "cell_type": "code",
   "execution_count": 50,
   "metadata": {},
   "outputs": [
    {
     "name": "stdout",
     "output_type": "stream",
     "text": [
      "28947.56056213379\n"
     ]
    }
   ],
   "source": [
    "hist = np.histogram(curr_data, bins=64)\n",
    "max_idx = np.argmax(hist[0])\n",
    "factor = (hist[1][max_idx]+hist[1][max_idx+1]) / 2\n",
    "print(factor)"
   ]
  },
  {
   "cell_type": "code",
   "execution_count": 51,
   "metadata": {},
   "outputs": [
    {
     "name": "stdout",
     "output_type": "stream",
     "text": [
      "10465.814437866211\n"
     ]
    }
   ],
   "source": [
    "curr_data = data[:,:,142]\n",
    "curr_data[curr_data < factor] = 0\n",
    "curr_data[curr_data >= factor] -= factor\n",
    "curr_data = curr_data / np.amax(curr_data) * np.amax(pet_data[:,:,142])"
   ]
  },
  {
   "cell_type": "code",
   "execution_count": null,
   "metadata": {},
   "outputs": [],
   "source": []
  },
  {
   "cell_type": "code",
   "execution_count": 52,
   "metadata": {},
   "outputs": [
    {
     "data": {
      "text/plain": [
       "(array([197832.,  14705.,   7105.,   4092.,   2999.,   2484.,   2116.,\n",
       "          1893.,   2189.,   1863.,   1237.,   1065.,    949.,    957.,\n",
       "           919.,    904.,    746.,    668.,    641.,    602.,    595.,\n",
       "           582.,    550.,    538.,    524.,    522.,    506.,    454.,\n",
       "           475.,    596.,    696.,    384.,    399.,    515.,    650.,\n",
       "           396.,    312.,    306.,    354.,    306.,    327.,    319.,\n",
       "           277.,    296.,    285.,    275.,    263.,    284.,    254.,\n",
       "           251.,    265.,    245.,    262.,    256.,    251.,    264.,\n",
       "           238.,    264.,    294.,    264.,    279.,    262.,    295.,\n",
       "           248.]),\n",
       " array([    0.        ,   833.12298584,  1666.24597168,  2499.36895752,\n",
       "         3332.49194336,  4165.6149292 ,  4998.73791504,  5831.86090088,\n",
       "         6664.98388672,  7498.10687256,  8331.2298584 ,  9164.35284424,\n",
       "         9997.47583008, 10830.59881592, 11663.72180176, 12496.8447876 ,\n",
       "        13329.96777344, 14163.09075928, 14996.21374512, 15829.33673096,\n",
       "        16662.4597168 , 17495.58270264, 18328.70568848, 19161.82867432,\n",
       "        19994.95166016, 20828.074646  , 21661.19763184, 22494.32061768,\n",
       "        23327.44360352, 24160.56658936, 24993.6895752 , 25826.81256104,\n",
       "        26659.93554688, 27493.05853271, 28326.18151855, 29159.30450439,\n",
       "        29992.42749023, 30825.55047607, 31658.67346191, 32491.79644775,\n",
       "        33324.91943359, 34158.04241943, 34991.16540527, 35824.28839111,\n",
       "        36657.41137695, 37490.53436279, 38323.65734863, 39156.78033447,\n",
       "        39989.90332031, 40823.02630615, 41656.14929199, 42489.27227783,\n",
       "        43322.39526367, 44155.51824951, 44988.64123535, 45821.76422119,\n",
       "        46654.88720703, 47488.01019287, 48321.13317871, 49154.25616455,\n",
       "        49987.37915039, 50820.50213623, 51653.62512207, 52486.74810791,\n",
       "        53319.87109375]),\n",
       " <a list of 64 Patch objects>)"
      ]
     },
     "execution_count": 52,
     "metadata": {},
     "output_type": "execute_result"
    },
    {
     "data": {
      "image/png": "[encoded data removed]",
      "text/plain": [
       "<Figure size 432x288 with 1 Axes>"
      ]
     },
     "metadata": {
      "needs_background": "light"
     },
     "output_type": "display_data"
    }
   ],
   "source": [
    "plt.hist(np.ravel(curr_data), bins=64)"
   ]
  },
  {
   "cell_type": "code",
   "execution_count": null,
   "metadata": {},
   "outputs": [],
   "source": []
  }
 ],
 "metadata": {
  "kernelspec": {
   "display_name": "Python 3",
   "language": "python",
   "name": "python3"
  },
  "language_info": {
   "codemirror_mode": {
    "name": "ipython",
    "version": 3
   },
   "file_extension": ".py",
   "mimetype": "text/x-python",
   "name": "python",
   "nbconvert_exporter": "python",
   "pygments_lexer": "ipython3",
   "version": "3.6.6"
  }
 },
 "nbformat": 4,
 "nbformat_minor": 2
}
